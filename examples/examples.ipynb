{
 "cells": [
  {
   "cell_type": "code",
   "execution_count": 1,
   "metadata": {},
   "outputs": [],
   "source": [
    "# import the source{d} engine\n",
    "from sourced.engine import Engine\n",
    "from pyspark.sql import SparkSession\n",
    "from pyspark.sql.functions import *\n",
    "\n",
    "# start a new session\n",
    "spark = SparkSession.builder \\\n",
    "        .master(\"local[*]\").appName(\"Examples\") \\\n",
    "        .getOrCreate()\n",
    "\n",
    "engine = Engine(spark, \"/root/borges/root/\")\n",
    "\n",
    "# get identifiers of all Python files\n",
    "idents = engine.repositories.filter(\"is_fork = false\") \\\n",
    "         .references \\\n",
    "         .head_ref.commits.first_reference_commit \\\n",
    "         .files \\\n",
    "         .classify_languages() \\\n",
    "         .extract_uasts() \\\n",
    "         .query_uast('//*[@roleIdentifier and not(@roleIncomplete)]') \\\n",
    "         .filter(\"is_binary = false\") \\\n",
    "         .filter(\"lang = 'Python'\") \\\n",
    "         .select(\"file_hash\", \"result\").distinct()\n",
    "\n",
    "# get and show the tokens from the identifiers\n",
    "tokens = idents.extract_tokens()\n",
    "tokens.limit(10).show()\n"
   ]
  },
  {
   "cell_type": "code",
   "execution_count": null,
   "metadata": {},
   "outputs": [],
   "source": []
  }
 ],
 "metadata": {
  "kernelspec": {
   "display_name": "Python 3",
   "language": "python",
   "name": "python3"
  },
  "language_info": {
   "codemirror_mode": {
    "name": "ipython",
    "version": 3
   },
   "file_extension": ".py",
   "mimetype": "text/x-python",
   "name": "python",
   "nbconvert_exporter": "python",
   "pygments_lexer": "ipython3",
   "version": "3.5.2"
  }
 },
 "nbformat": 4,
 "nbformat_minor": 2
}
